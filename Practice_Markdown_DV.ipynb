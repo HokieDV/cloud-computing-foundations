{
  "cells": [
    {
      "cell_type": "markdown",
      "metadata": {
        "id": "view-in-github",
        "colab_type": "text"
      },
      "source": [
        "<a href=\"https://colab.research.google.com/github/HokieDV/cloud-computing-foundations/blob/main/Practice_Markdown_DV.ipynb\" target=\"_parent\"><img src=\"https://colab.research.google.com/assets/colab-badge.svg\" alt=\"Open In Colab\"/></a>"
      ]
    },
    {
      "cell_type": "markdown",
      "metadata": {
        "id": "fVZPyoiSBK9H"
      },
      "source": [
        "## Practice Markdown"
      ]
    },
    {
      "cell_type": "markdown",
      "metadata": {
        "id": "snVD5rS4BK9I"
      },
      "source": [
        "# this is a title\n",
        "~#this is a comment~\n",
        "\n",
        " nope. just plain text\n",
        "\n",
        "\n",
        "## todo list\n",
        "- [x] Create a code cell and print a Python Hello World statement: print(\"hello world\")\n",
        "- [x] Create a Markdown Cell and add a Title using # and then a statement using plain text. You can looks at the source code for this cell to get an idea of how to use Markdown.\n",
        "- [x] Take some ideas from the Master Markdown Github Guide and implement them here.\n",
        "- [ ] Download this notebook as a .ipynb file and check into a Github Project. You can see an example here.\n",
        "- [ ] Open your notebook in Google Colab and save it into the same Github Project. You can see an example here.\n",
        "\n",
        "\n",
        "\n",
        "\n",
        "\n",
        "\n"
      ]
    },
    {
      "cell_type": "code",
      "execution_count": null,
      "metadata": {
        "id": "4edEIKzXBK9J",
        "outputId": "b2a157d2-3c0a-40c6-de33-89d57f1d74e1"
      },
      "outputs": [
        {
          "name": "stdout",
          "output_type": "stream",
          "text": [
            "hello world\n"
          ]
        }
      ],
      "source": [
        "# first project\n",
        "print (\"hello,world!)"
      ]
    }
  ],
  "metadata": {
    "kernelspec": {
      "display_name": "Python 3",
      "language": "python",
      "name": "python3"
    },
    "language_info": {
      "codemirror_mode": {
        "name": "ipython",
        "version": 3
      },
      "file_extension": ".py",
      "mimetype": "text/x-python",
      "name": "python",
      "nbconvert_exporter": "python",
      "pygments_lexer": "ipython3",
      "version": "3.7.6"
    },
    "colab": {
      "provenance": [],
      "include_colab_link": true
    }
  },
  "nbformat": 4,
  "nbformat_minor": 0
}